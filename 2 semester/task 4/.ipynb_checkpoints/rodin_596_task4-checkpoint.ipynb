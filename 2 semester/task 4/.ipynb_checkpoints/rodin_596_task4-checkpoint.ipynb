{
 "cells": [
  {
   "cell_type": "code",
   "execution_count": 12,
   "metadata": {},
   "outputs": [
    {
     "name": "stdout",
     "output_type": "stream",
     "text": [
      "The autoreload extension is already loaded. To reload it, use:\n",
      "  %reload_ext autoreload\n"
     ]
    }
   ],
   "source": [
    "import numpy as np\n",
    "\n",
    "import torch\n",
    "import torch.nn as nn\n",
    "import torch.nn.functional as F\n",
    "import torch.optim as optim\n",
    "from torch import FloatTensor, LongTensor\n",
    "\n",
    "import gym\n",
    "np.random.seed(42)\n",
    "\n",
    "from tqdm import tqdm_notebook as tqdm\n",
    "import matplotlib.pyplot as plt\n",
    "\n",
    "%load_ext autoreload\n",
    "%autoreload 2\n",
    "%matplotlib inline"
   ]
  },
  {
   "cell_type": "code",
   "execution_count": 2,
   "metadata": {},
   "outputs": [
    {
     "data": {
      "text/plain": [
       "array([-0.00630817,  1.406782  , -0.63896567, -0.18393232,  0.00731639,\n",
       "        0.14473534,  0.        ,  0.        ], dtype=float32)"
      ]
     },
     "execution_count": 2,
     "metadata": {},
     "output_type": "execute_result"
    }
   ],
   "source": [
    "env = gym.make('LunarLander-v2')\n",
    "env.reset()"
   ]
  },
  {
   "cell_type": "code",
   "execution_count": 3,
   "metadata": {},
   "outputs": [],
   "source": [
    "action_to_i = {\n",
    "    'nope':0,\n",
    "    'left':1,\n",
    "    'main':2,\n",
    "    'right':3\n",
    "}"
   ]
  },
  {
   "cell_type": "code",
   "execution_count": 4,
   "metadata": {},
   "outputs": [],
   "source": [
    "class Lander(nn.Module):\n",
    "    def __init__(self, env, num_env_actions, num_env_variables):\n",
    "        super().__init__()\n",
    "        self.env = env\n",
    "        self.num_env_actions = num_env_actions\n",
    "        self.num_env_variables = num_env_variables\n",
    "        self.memoryX = np.zeros(1)\n",
    "        self.memoryY = np.zeros(1)\n",
    "        self.criterion = nn.MSELoss()\n",
    "        self.optimizer = None\n",
    "        \n",
    "        self._dence_1 =nn.Sequential( nn.Linear(num_env_actions + num_env_variables, 512), nn.ReLU() )\n",
    "        self._dence_2 =nn.Sequential( nn.Linear(512, 256), nn.ReLU() )\n",
    "        self._dence_3 =nn.Sequential( nn.Linear(256, 256), nn.ReLU() )\n",
    "        self._out = nn.Linear(256, 1)\n",
    "\n",
    "    def forward(self, inputs):\n",
    "        x = self._dence_1(inputs)\n",
    "        x = self._dence_2(x)\n",
    "        x = self._dence_3(x)\n",
    "        x = self._out(x)\n",
    "        return x\n",
    "    \n",
    "    def one_hot(self, action):\n",
    "        result = np.zeros(self.num_env_actions)\n",
    "        result[action] = 1\n",
    "        return result\n",
    "\n",
    "    def predict_total_reward(self, state, action):\n",
    "        state_action = np.concatenate((state, self.one_hot(action)), axis = 0)\n",
    "        total_reward = self.forward(FloatTensor(state_action.reshape(1, -1))).flatten()\n",
    "        return total_reward\n",
    "\n",
    "    def random_action(self):\n",
    "        return self.env.action_space.sample()\n",
    "\n",
    "    def normal_action(self, state):\n",
    "        possible_action = np.array([self.predict_total_reward(state, i) for i in range(self.num_env_actions)])\n",
    "        return np.argmax(possible_action)\n",
    "\n",
    "    def get_action(self, state, explore = 0.5, observe = False):\n",
    "        if observe:\n",
    "            return self.random_action()\n",
    "        prob = np.random.rand(1)\n",
    "        if prob > explore:\n",
    "            return self.random_action()\n",
    "        return self.normal_action(state)\n",
    "\n",
    "    def play_game(self, observe = False, explore = 0.5, gamma = 0.99, render = False):\n",
    "        gameX = np.zeros(shape=(1,num_env_variables+num_env_actions))\n",
    "        gameY = np.zeros(shape=(1,1))\n",
    "        state = self.env.reset()\n",
    "        done = False\n",
    "        step = 0\n",
    "        total_reward = 0\n",
    "        while not done:\n",
    "            action = self.get_action(state, explore, observe)\n",
    "            if render:\n",
    "                env.render()\n",
    "            state_action = np.concatenate((state, self.one_hot(action)), axis = 0)\n",
    "            state, reward, done, info = self.env.step(action)\n",
    "            total_reward += reward\n",
    "            if step == 0:\n",
    "                gameX[0] = state_action\n",
    "                gameY[0] = np.array([reward])\n",
    "            else:\n",
    "                gameX = np.vstack((gameX, state_action))\n",
    "                gameY = np.vstack((gameY, np.array([reward])))\n",
    "            step += 1\n",
    "        for i in range(0,gameY.shape[0]):\n",
    "            if i > 0:\n",
    "                gameY[(gameY.shape[0]-1)-i][0] = gameY[(gameY.shape[0]-1)-i][0] + gamma * gameY[(gameY.shape[0]-1) - i + 1][0]\n",
    "        return np.array(gameX), np.array(gameY), total_reward\n",
    "    \n",
    "    def update_memory(self, gameX, gameY):\n",
    "        if self.memoryX.shape[0] == 1:\n",
    "            self.memoryX = gameX\n",
    "            self.memoryY = gameY\n",
    "        else:\n",
    "            self.memoryX = np.concatenate((self.memoryX, gameX), axis=0)\n",
    "            self.memoryY = np.concatenate((self.memoryY, gameY), axis=0)\n",
    "        max_memory = 6000\n",
    "        if len(self.memoryX > max_memory):\n",
    "            self.memoryX = self.memoryX[-max_memory:]\n",
    "            self.memoryY = self.memoryY[-max_memory:]\n",
    "            \n",
    "    def train(self):\n",
    "        if self.optimizer is None:\n",
    "            self.optimizer = optim.Adam(self.parameters(), lr=1e-5)\n",
    "        with torch.autograd.set_grad_enabled(True):\n",
    "            for i in range(12):\n",
    "                batch_ids = np.random.choice(len(self.memoryX), 512)\n",
    "                batch = self.memoryX[batch_ids]\n",
    "                target = self.memoryY[batch_ids]\n",
    "                prediction = self.forward(FloatTensor(batch))\n",
    "                loss = self.criterion(prediction, FloatTensor(target))\n",
    "                loss.backward()\n",
    "                self.optimizer.step()\n",
    "                self.optimizer.zero_grad()\n",
    "            \n",
    "    \n",
    "    def train_model(self, steps, observe=False, explore=0.5, gamma=0.99, render=False):\n",
    "        with tqdm(total=steps) as pbar:\n",
    "            for _ in range(steps):\n",
    "                gameX, gameY, _ = self.play_game(observe, explore, gamma, render)\n",
    "                self.update_memory(gameX, gameY)\n",
    "                if not observe:\n",
    "                    self.train()\n",
    "                pbar.update()"
   ]
  },
  {
   "cell_type": "code",
   "execution_count": 5,
   "metadata": {},
   "outputs": [],
   "source": [
    "num_env_variables = 8\n",
    "num_env_actions = 4"
   ]
  },
  {
   "cell_type": "code",
   "execution_count": 6,
   "metadata": {},
   "outputs": [],
   "source": [
    "model = Lander(env, num_env_actions, num_env_variables)"
   ]
  },
  {
   "cell_type": "code",
   "execution_count": 7,
   "metadata": {},
   "outputs": [
    {
     "data": {
      "application/vnd.jupyter.widget-view+json": {
       "model_id": "f6acbe80717b418eb7d26745a72b19c4",
       "version_major": 2,
       "version_minor": 0
      },
      "text/plain": [
       "HBox(children=(IntProgress(value=0, max=5000), HTML(value='')))"
      ]
     },
     "metadata": {},
     "output_type": "display_data"
    },
    {
     "name": "stdout",
     "output_type": "stream",
     "text": [
      "\n"
     ]
    }
   ],
   "source": [
    "model.train_model(5000, observe=True)"
   ]
  },
  {
   "cell_type": "code",
   "execution_count": 8,
   "metadata": {},
   "outputs": [
    {
     "data": {
      "application/vnd.jupyter.widget-view+json": {
       "model_id": "492eb191be234156b764fe597a6f2683",
       "version_major": 2,
       "version_minor": 0
      },
      "text/plain": [
       "HBox(children=(IntProgress(value=0, max=4000), HTML(value='')))"
      ]
     },
     "metadata": {},
     "output_type": "display_data"
    },
    {
     "name": "stdout",
     "output_type": "stream",
     "text": [
      "\n"
     ]
    }
   ],
   "source": [
    "model.train_model(4000, explore = 0.2, render=False, gamma=0.99)"
   ]
  },
  {
   "cell_type": "code",
   "execution_count": 45,
   "metadata": {},
   "outputs": [
    {
     "data": {
      "application/vnd.jupyter.widget-view+json": {
       "model_id": "eda9cf5ccffa4bc48affec411ba5298c",
       "version_major": 2,
       "version_minor": 0
      },
      "text/plain": [
       "HBox(children=(IntProgress(value=0, max=4000), HTML(value='')))"
      ]
     },
     "metadata": {},
     "output_type": "display_data"
    },
    {
     "name": "stdout",
     "output_type": "stream",
     "text": [
      "\n"
     ]
    }
   ],
   "source": [
    "model.train_model(4000, explore = 0.9, render=False, gamma=0.99)"
   ]
  },
  {
   "cell_type": "code",
   "execution_count": 48,
   "metadata": {},
   "outputs": [
    {
     "data": {
      "application/vnd.jupyter.widget-view+json": {
       "model_id": "214bc89220a1484e97f4a152fef939cb",
       "version_major": 2,
       "version_minor": 0
      },
      "text/plain": [
       "HBox(children=(IntProgress(value=0, max=50), HTML(value='')))"
      ]
     },
     "metadata": {},
     "output_type": "display_data"
    },
    {
     "name": "stdout",
     "output_type": "stream",
     "text": [
      "\n",
      "Mean reward for 50 games : 232.05761697644658\n"
     ]
    },
    {
     "data": {
      "image/png": "[encoded data removed]",
      "text/plain": [
       "<Figure size 1080x360 with 1 Axes>"
      ]
     },
     "metadata": {
      "needs_background": "light"
     },
     "output_type": "display_data"
    }
   ],
   "source": [
    "rewards = []\n",
    "num_iters = 50\n",
    "with tqdm(total=num_iters) as pbar:\n",
    "    for i in range(num_iters):\n",
    "        game_x, game_y, total = model.play_game(explore = 1, render = False)\n",
    "        rewards.append(total)\n",
    "        pbar.update()\n",
    "plt.figure(figsize=(15,5))\n",
    "plt.plot(rewards)\n",
    "plt.grid()\n",
    "print('Mean reward for ' + str(num_iters) + ' games : ' + str(np.mean(rewards)))"
   ]
  },
  {
   "cell_type": "code",
   "execution_count": 51,
   "metadata": {},
   "outputs": [
    {
     "name": "stdout",
     "output_type": "stream",
     "text": [
      "286.665618374275\n",
      "305.331275409277\n",
      "272.7288770684049\n",
      "299.1843084867568\n",
      "292.06933194649577\n",
      "284.92096805022794\n",
      "293.7844397283782\n",
      "252.12708159984612\n",
      "271.4145599691916\n",
      "268.28311467811375\n"
     ]
    }
   ],
   "source": [
    "for i in range(10):\n",
    "    game_x, game_y, total = model.play_game(explore = 1, render = False)\n",
    "    print(total)"
   ]
  },
  {
   "cell_type": "code",
   "execution_count": 39,
   "metadata": {},
   "outputs": [],
   "source": [
    "torch.save(model.state_dict(), 'model')\n",
    "model2.load_state_dict(torch.load('test'))"
   ]
  },
  {
   "cell_type": "code",
   "execution_count": 42,
   "metadata": {},
   "outputs": [
    {
     "name": "stdout",
     "output_type": "stream",
     "text": [
      "184.34589042993116\n"
     ]
    }
   ],
   "source": [
    "_,_,x = model2.play_game(explore = 1, render = True)\n",
    "print(x)"
   ]
  },
  {
   "cell_type": "code",
   "execution_count": null,
   "metadata": {},
   "outputs": [],
   "source": []
  }
 ],
 "metadata": {
  "kernelspec": {
   "display_name": "gym",
   "language": "python",
   "name": "gym"
  },
  "language_info": {
   "codemirror_mode": {
    "name": "ipython",
    "version": 3
   },
   "file_extension": ".py",
   "mimetype": "text/x-python",
   "name": "python",
   "nbconvert_exporter": "python",
   "pygments_lexer": "ipython3",
   "version": "3.7.0"
  }
 },
 "nbformat": 4,
 "nbformat_minor": 2
}
