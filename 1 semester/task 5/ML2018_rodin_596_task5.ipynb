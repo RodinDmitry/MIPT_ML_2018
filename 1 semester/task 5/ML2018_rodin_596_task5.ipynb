{
  "nbformat": 4,
  "nbformat_minor": 0,
  "metadata": {
    "colab": {
      "name": "Untitled1.ipynb",
      "version": "0.3.2",
      "views": {},
      "default_view": {},
      "provenance": []
    },
    "kernelspec": {
      "display_name": "Python 3",
      "language": "python",
      "name": "python3"
    }
  },
  "cells": [
    {
      "metadata": {
        "id": "qPtHSBvZDOV1",
        "colab_type": "text"
      },
      "cell_type": "markdown",
      "source": [
        "<span style=\"font-size: 14pt\">MIPT, Advanced ML, Spring 2018</span>\n",
        "\n",
        "<span style=\"font-size: 16pt\"> HW #5: Linear Models \n",
        "\n",
        "<span style=\"color:blue; font-size: 12pt\">Alexey Romanenko </span>,\n",
        "<span style=\"color:blue; font-size: 12pt; font-family: 'Verdana'\"> alexromsput@gmail.com</span>\n"
      ]
    },
    {
      "metadata": {
        "id": "DWXNFd5nDOV4",
        "colab_type": "text"
      },
      "cell_type": "markdown",
      "source": [
        "<h1 align=\"center\">Organization Info</h1> \n",
        "\n",
        "* Дедлайн **11 апреля 2018 02:59** для всех групп.\n",
        "* В качестве решения задания нужно прислать ноутбук с подробными комментариями (<span style='color:red'> без присланного решения результат контеста не будет засчитан </span>).\n",
        "* <span style='color:red'>Название команды в контесте должно соответствовать шаблону: НомерГруппы_Имя_Фамилия, например, 594_Ivan_Ivanov</span>."
      ]
    },
    {
      "metadata": {
        "id": "l8wT6zrMDOV5",
        "colab_type": "text"
      },
      "cell_type": "markdown",
      "source": [
        "**Оформление дз**: \n",
        "- Присылайте выполненное задание на почту ``ml.course.mipt@gmail.com``\n",
        "- Укажите тему письма в следующем формате ``ML2018_fall_<номер_группы>_<фамилия>``, к примеру -- ``ML2018_fall_495_ivanov``\n",
        "- Выполненное дз сохраните в файл ``<фамилия>_<группа>_task<номер>.ipnb, к примеру`` -- ``ivanov_401_task5.ipnb``\n",
        "\n",
        "**Вопросы**:\n",
        "- Присылайте вопросы на почту ``ml.course.mipt@gmail.com``\n",
        "- Укажите тему письма в следующем формате ``ML2018_fall Question <Содержание вопроса>``\n",
        "\n",
        "\n",
        "--------\n",
        "- **PS1:** Используются автоматические фильтры, и просто не найдем ваше дз, если вы неаккуратно его подпишите.\n",
        "- **PS2:**  Просроченный дедлайн снижает максимальный вес задания по формуле, указнной на первом семинаре\n",
        "- **PS3:** Допустимы исправление кода предложенного кода ниже, если вы считаете"
      ]
    },
    {
      "metadata": {
        "id": "Knk4IC5yDOV8",
        "colab_type": "text"
      },
      "cell_type": "markdown",
      "source": [
        "<h1 align=\"center\">Check Questions </h1> "
      ]
    },
    {
      "metadata": {
        "id": "4t1QL23JDOWB",
        "colab_type": "text"
      },
      "cell_type": "markdown",
      "source": [
        "Ниже приводится список вопросов, с ответами на которые может быть полезно разобраться\n",
        "для понимания темы.\n",
        "\n",
        "**1.** Как выглядит решающее правило в линейной классификации? А зависимость, которой мы приближаем ответы в линейной регрессии?\n",
        "\n",
        "**2.** Что такое функции потерь в задачах классификации и регрессии? Зачем они нужны?\n",
        "\n",
        "**3.** Что такое регуляризаторы? Какими они бывают в задачах линейной классификации и регрессии? Зачем они нужны?\n",
        "\n",
        "**4.** Как в общем виде выглядит оптимизационная задача в линейной классификации или линейной регрессии?\n",
        "\n",
        "**5.** Как работает настройка весов в линейной модели с помощью SGD (Stochastic Gradient Decent)? Как выглядит правило обновления весов?\n",
        "\n",
        "**6.** Учитывается ли коэффициент сдвига w0 в регуляризаторе? Почему?\n",
        "\n",
        "**7.** Почему линейные модели рекомендуется применять к выборке с нормированными значениями признаков?\n",
        "\n",
        "**8.** Как выглядит оптимизационная задача в логистической регрессии? А в SVM?\n",
        "\n",
        "**9.** Выпишите и докажите формулу для весов в линейной регрессии (с квадратичной функцией потерь).\n",
        "То же самое для гребневой регрессии.\n",
        "\n",
        "**10.** Выпишите SGD для логистической регрессии с $l2$-регуляризацией и для SVM с линейным ядром.\n",
        "\n",
        "**11.** В чем заключается идея ядер в SVM?\n",
        "\n",
        "**12.** Какие преимущества и недостатки есть у линейных моделей?\n",
        "\n",
        "**13.** На какие 3 матрицы раскладывается произвольная матрица при SVD? Что такое сингулярные числа"
      ]
    },
    {
      "metadata": {
        "id": "xjt9sC1sDOWE",
        "colab_type": "text"
      },
      "cell_type": "markdown",
      "source": [
        "<h1 align=\"center\">Contest 1 (40%)</h1> \n",
        "** Ссылка на контест: ** https://www.kaggle.com/t/68e2660e41d94d64a3c2251a1df16ab3"
      ]
    },
    {
      "metadata": {
        "id": "4qHiAew0DTa_",
        "colab_type": "code",
        "colab": {
          "autoexec": {
            "startup": false,
            "wait_interval": 0
          }
        }
      },
      "cell_type": "code",
      "source": [
        "#Использовался google colab\n",
        "from google.colab import files\n",
        "!pip install -U -q PyDrive\n",
        "!pip install imbalanced-learn\n",
        "!pip install kaggle"
      ],
      "execution_count": 0,
      "outputs": []
    },
    {
      "metadata": {
        "id": "sWQzQqIyDWAA",
        "colab_type": "code",
        "colab": {
          "autoexec": {
            "startup": false,
            "wait_interval": 0
          }
        }
      },
      "cell_type": "code",
      "source": [
        "files.upload()"
      ],
      "execution_count": 0,
      "outputs": []
    },
    {
      "metadata": {
        "id": "y_7OOuu-DYYB",
        "colab_type": "code",
        "colab": {
          "autoexec": {
            "startup": false,
            "wait_interval": 0
          }
        }
      },
      "cell_type": "code",
      "source": [
        "!mv kaggle.json /content/.kaggle/"
      ],
      "execution_count": 0,
      "outputs": []
    },
    {
      "metadata": {
        "id": "yCgGRZacDa4_",
        "colab_type": "code",
        "colab": {
          "autoexec": {
            "startup": false,
            "wait_interval": 0
          },
          "base_uri": "https://localhost:8080/",
          "height": 85
        },
        "outputId": "cdd17ba7-de60-4095-e6e6-2f0dd455a0f9",
        "executionInfo": {
          "status": "ok",
          "timestamp": 1523389601369,
          "user_tz": -180,
          "elapsed": 6879,
          "user": {
            "displayName": "Дмитрий Владимирович Родин",
            "photoUrl": "https://lh3.googleusercontent.com/a/default-user=s128",
            "userId": "116592057681709522679"
          }
        }
      },
      "cell_type": "code",
      "source": [
        "!kaggle competitions download -c ml-mipt-spring2018-hw5-v2 --force\n"
      ],
      "execution_count": 32,
      "outputs": [
        {
          "output_type": "stream",
          "text": [
            "Warning: Your Kaggle API key is readable by other users on this system! To fix this, you can run 'chmod 600 /content/.kaggle/kaggle.json'\n",
            "test.csv: Downloaded 904KB of 904KB\n",
            "train.csv: Downloaded 3MB of 3MB\n",
            "sampleSubmission.csv: Downloaded 144KB of 144KB\n"
          ],
          "name": "stdout"
        }
      ]
    },
    {
      "metadata": {
        "id": "V_gf0wojEaf4",
        "colab_type": "code",
        "colab": {
          "autoexec": {
            "startup": false,
            "wait_interval": 0
          },
          "base_uri": "https://localhost:8080/",
          "height": 51
        },
        "outputId": "ea7f1991-a9e0-4152-d9d1-6f1c5792b693",
        "executionInfo": {
          "status": "ok",
          "timestamp": 1523389205513,
          "user_tz": -180,
          "elapsed": 3043,
          "user": {
            "displayName": "Дмитрий Владимирович Родин",
            "photoUrl": "https://lh3.googleusercontent.com/a/default-user=s128",
            "userId": "116592057681709522679"
          }
        }
      },
      "cell_type": "code",
      "source": [
        "!mkdir /content/v1\n",
        "!mkdir /content/v2"
      ],
      "execution_count": 22,
      "outputs": [
        {
          "output_type": "stream",
          "text": [
            "mkdir: cannot create directory ‘/content/v1’: File exists\n",
            "mkdir: cannot create directory ‘/content/v2’: File exists\n"
          ],
          "name": "stdout"
        }
      ]
    },
    {
      "metadata": {
        "id": "G3xNIlgcD0Y_",
        "colab_type": "code",
        "colab": {
          "autoexec": {
            "startup": false,
            "wait_interval": 0
          }
        }
      },
      "cell_type": "code",
      "source": [
        "!mv /content/.kaggle/competitions/ml-mipt-spring2018-hw5-v1/* /content/v1\n",
        "!mv /content/.kaggle/competitions/ml-mipt-spring2018-hw5-v2/* /content/v2"
      ],
      "execution_count": 0,
      "outputs": []
    },
    {
      "metadata": {
        "id": "trUPxCLhDdln",
        "colab_type": "code",
        "colab": {
          "autoexec": {
            "startup": false,
            "wait_interval": 0
          }
        }
      },
      "cell_type": "code",
      "source": [
        "import re\n",
        "import numpy as np\n",
        "import pandas as pd\n",
        "from collections import Counter\n",
        "\n",
        "\n",
        "from sklearn.linear_model import SGDClassifier\n",
        "from sklearn.svm import SVC, LinearSVC\n",
        "from sklearn.linear_model import LogisticRegression\n",
        "\n",
        "from sklearn.metrics import accuracy_score, roc_auc_score\n",
        "from sklearn.model_selection import cross_val_score, GridSearchCV, ShuffleSplit\n",
        "from sklearn.preprocessing import scale\n",
        "from sklearn.model_selection import train_test_split\n",
        "\n",
        "%matplotlib inline"
      ],
      "execution_count": 0,
      "outputs": []
    },
    {
      "metadata": {
        "id": "jWHZUdgGDOWG",
        "colab_type": "text"
      },
      "cell_type": "markdown",
      "source": [
        "# Критерии оценивания\n",
        "Для того чтобы получить оценку нужно\n",
        "* 1) прислать код вашей модели (можно использовать только линейные модели), которая выдает один из финальных сабмиттов.\n",
        "* 2) чтобы получить\n",
        "    - хор (5)  и выше нужно превзойти результат benchmark_1;\n",
        "    - отл (8) и выше нужно превзойти результат benchmark_2;\n",
        "* 3) Ваше имя в лидерборде должно иметь вид <НомерГруппы>\\_Имя\\_Фамилия, например: 594\\_Иван\\_Иванов. Если имя не будет соответствовать формату организаторы вправе снизить оценку."
      ]
    },
    {
      "metadata": {
        "id": "lXTgtquWDOWJ",
        "colab_type": "code",
        "colab": {
          "autoexec": {
            "startup": false,
            "wait_interval": 0
          }
        }
      },
      "cell_type": "code",
      "source": [
        "data = pd.read_csv('v1/train.csv')\n",
        "data.drop('id', axis = 1, inplace = True)\n",
        "X_train = np.asarray(data[data.columns[range(1, data.shape[1])]], dtype = np.double)\n",
        "Y_train = np.asarray(data[['label']], dtype = np.double).ravel()\n",
        "test = pd.read_csv('v1/test.csv')\n",
        "X_test = np.asarray(test[test.columns[range(1, test.shape[1])]])\n",
        "scaled = scale(np.concatenate((X_train, X_test), axis=0))\n",
        "X_train = scaled[:Y_train.size]\n",
        "X_test = scaled[Y_train.size:]\n",
        "estimator = SVC(kernel='poly', C = 0.05, gamma=0.3, tol=1)\n",
        "estimator.fit(X_train, Y_train)\n",
        "test_predict=estimator.predict(X_test)\n",
        "test['label'] = test_predict\n",
        "test[['id', 'label']].to_csv('res.csv', sep = ',', index = False)\n",
        "files.download('res.csv')"
      ],
      "execution_count": 0,
      "outputs": []
    },
    {
      "metadata": {
        "id": "_Csrx9hLDOWW",
        "colab_type": "text"
      },
      "cell_type": "markdown",
      "source": [
        "<h1 align=\"center\">Contest 2 (40%)</h1> \n",
        "* Ссылка на контест: https://www.kaggle.com/t/2343d1882c6842258e3825b4a8a1e5a8\n",
        "\n",
        "# Критерии оценивания\n",
        "Для того чтобы получить оценку нужно\n",
        "* 1) Прислать код вашей модели, которая выдает один из финальных сабмиттов.\n",
        "* 2) чтобы получить\n",
        "    - хор (5)  и выше нужно превзойти результат benchmark_1;\n",
        "    - отл (8) и выше нужно превзойти результат benchmark_2;\n",
        "* 3) Ваше имя в лидерборде должно иметь вид <НомерГруппы>\\_Имя\\_Фамилия, например: 594\\_Иван\\_Иванов. Если имя не будет соответствовать формату организаторы вправе снизить оценку."
      ]
    },
    {
      "metadata": {
        "id": "HWyodo9iDOWa",
        "colab_type": "code",
        "colab": {
          "autoexec": {
            "startup": false,
            "wait_interval": 0
          }
        }
      },
      "cell_type": "code",
      "source": [
        "data = pd.read_csv('v2/train.csv')\n",
        "data.drop('Unnamed: 0', axis = 1, inplace=True)\n",
        "data.drop('author', axis = 1, inplace=True)\n",
        "X = np.asarray(data['content'])\n",
        "Y = np.asarray(data['sentiment'])\n",
        "data_test = pd.read_csv('test.csv')\n",
        "X_t = np.asarray(data_test['content'])\n",
        "\n",
        "def split_string(string):\n",
        "  split = re.split(' |\\,|\\.|\\!|\\?|\\;|\\&|\\:|\\(|\\)|\\#|\\\"|\\'|\\/|\\-|\\*|\\_|\\$|\\~|\\`|\\+|\\=', string.lower())\n",
        "  res = []\n",
        "  for part in split:\n",
        "    if part != '' and part != None and part[0] != '@':\n",
        "      res.append(part)\n",
        "  return res\n",
        "\n",
        "def build_dict(X):\n",
        "  res = Counter()\n",
        "  for x in X:\n",
        "    split = split_string(x)\n",
        "    for word in split:\n",
        "      res[word] += 1\n",
        "  return res\n",
        "\n",
        "def build_encoding(X, num_banned, min_len):\n",
        "  freq_dict = build_dict(X)\n",
        "  ban_list = [tpl[0] for tpl in freq_dict.most_common(num_banned)]\n",
        "  word_list = {}\n",
        "  i = 3\n",
        "  for word in freq_dict:\n",
        "    if freq_dict[word] > min_len and word not in ban_list:\n",
        "      word_list[word] = i\n",
        "      i += 1\n",
        "  return word_list\n",
        "\n",
        "def create_features(X, num_banned, min_len, encoding = None):\n",
        "  if encoding == None:\n",
        "    encoding = build_encoding(X,num_banned, min_len)\n",
        "  res = []\n",
        "  for x in X:\n",
        "    direct = len(re.findall('\\@', x.lower()))\n",
        "    if direct > 0:\n",
        "      direct = 1\n",
        "    excl = len(re.findall('\\!', x.lower()))\n",
        "    if excl > 0:\n",
        "      excl = 1\n",
        "    quest = len(re.findall('\\?', x.lower()))\n",
        "    if quest > 0:\n",
        "      quest  = 1\n",
        "    features = []\n",
        "    features.append(direct)\n",
        "    features.append(excl)\n",
        "    features.append(quest)\n",
        "    split = split_string(x)\n",
        "    for word in encoding:\n",
        "        features.append(1 if word in split else 0)\n",
        "    res.append(np.array(features))\n",
        "  return np.array(res), encoding\n",
        "\n",
        "\n",
        "def encode_y(Y):\n",
        "  sentiments = list(set(Y))\n",
        "  encoding = {}\n",
        "  i = 0 \n",
        "  for sentiment in sentiments:\n",
        "    encoding[sentiment] = i\n",
        "    i += 1\n",
        "  target = []\n",
        "  for y in Y:\n",
        "    target.append(encoding[y])\n",
        "  return np.array(target), encoding\n",
        "\n",
        "def decode(Y, encode):\n",
        "  res = []\n",
        "  for y in Y: \n",
        "    for word in encode:\n",
        "      if y == encode[word]:\n",
        "        res.append(word)\n",
        "  return np.array(res)\n",
        "  \n",
        "X_train, enc = create_features(X, 2, 13)\n",
        "y_train, y_enc = encode_y(Y)\n",
        "test, enc = create_features(X_t, 2, 13, encoding=enc)\n",
        "\n",
        "estimator = LogisticRegression(tol=0.04, penalty='l1', n_jobs=-1, solver='saga')\n",
        "estimator.fit(X_train, y_train)\n",
        "test_predict=estimator.predict(test)\n",
        "\n",
        "test_res = pd.read_csv('v2/test.csv')\n",
        "result = decode(test_predict, y_enc)\n",
        "test_res['sentiment'] = result\n",
        "test_res[['id', 'sentiment']].to_csv('res.csv', sep = ',', index = False)\n",
        "files.download('res.csv')"
      ],
      "execution_count": 0,
      "outputs": []
    },
    {
      "metadata": {
        "id": "VpeaGCA9DOWm",
        "colab_type": "text"
      },
      "cell_type": "markdown",
      "source": [
        "<h1 align=\"center\">Теоретические задачи (20%)</h1> \n",
        "\n",
        "** Задача 1**\n",
        "Покажите, что регуляризатор в задаче линейной классификации имеет вероятностный смысл априорного распределения параметров моделей. Какие распределения задают 𝑙1-регуляризатор и 𝑙2-регуляризатор?\n",
        "\n",
        "** Задача 2**\n",
        "Покажите, что в случае линейно разделимой выборки функционал, максимизируемый при обучении логистической регрессии, достигает своего максимума в бесконечности (при бесконечно больших значениях компонент вектора весов), а значит для процесса обучения необходимо добавить регуляризационный член.\n",
        "\n",
        "** Задача 3**\n",
        "Задана выборка объектов, каждый из которых принадлежит одному из двух классов $Y = \\{1; -1\\}$. В некотором спрямляющем пространстве, задаваемом ядром $K_1(x_1; x_2)$, эта выборка является линейно разделимой, а в некотором спрямляющем пространстве, задаваемом ядром $K_2(x_1; x_2)$, не является линейно разделимой. Существует ли спрямляемое пространство, задаваемое ядром $K(x_1; x_2) = K_1(x_1; x_2) + K_2(x_1; x_2)$, в котором эта выборка будет линейно разделимой?\n",
        "\n",
        "** Задача 4**\n",
        "Покажите, что если предварительно центрировать выборку в задаче линейной регрессии, то параметр сдвига $𝑤_0$ (коэффициент перед константой) получится равным нулю."
      ]
    }
  ]
}